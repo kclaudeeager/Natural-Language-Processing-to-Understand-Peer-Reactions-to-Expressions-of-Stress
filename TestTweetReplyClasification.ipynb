{
 "cells": [
  {
   "cell_type": "code",
   "execution_count": 1,
   "metadata": {},
   "outputs": [],
   "source": [
    "import csv\n",
    "# import the pandas library\n",
    "import json\n",
    "#import pandas as pd\n",
    "import matplotlib.pyplot as plt"
   ]
  },
  {
   "cell_type": "code",
   "execution_count": null,
   "metadata": {},
   "outputs": [],
   "source": []
  },
  {
   "cell_type": "code",
   "execution_count": null,
   "metadata": {},
   "outputs": [],
   "source": [
    "# tweetRepliesData=pd.read_csv('TweetExtraction\\cleaned_tweet_with_replies_only.csv')\n",
    "tweetList=list()\n",
    "with open(\"data\\cleaned_tweet_with_replies_only.json\",encoding=\"UTF-8\") as tweetData:\n",
    "    print(tweetData)\n",
    "    tweetList=json.load(tweetData)\n",
    "print(tweetList)\n",
    "    "
   ]
  },
  {
   "cell_type": "code",
   "execution_count": null,
   "metadata": {},
   "outputs": [],
   "source": []
  },
  {
   "cell_type": "code",
   "execution_count": 3,
   "metadata": {},
   "outputs": [],
   "source": [
    "#Return list of tweet replies\n",
    "def render_reply_list(tweet):\n",
    "    replies=tweet['replies']\n",
    "    # data=replies['data']\n",
    "    res = json.loads(replies)\n",
    "    # print(type(res))\n",
    "    # print(res['data'])\n",
    "    return res['data']\n"
   ]
  },
  {
   "cell_type": "code",
   "execution_count": 4,
   "metadata": {},
   "outputs": [],
   "source": [
    "import requests\n",
    "#map each tweet replies with its corresponding classification\n",
    "def classify_tweet_replies(replies):\n",
    "    reply_with_sentiment_analyzis_list=list()\n",
    "    \n",
    "    for reply in replies:\n",
    "        url = \"http://localhost/predict-review?review=\"+reply['text']\n",
    "\n",
    "        payload = \"\"\n",
    "        headers = {}\n",
    "\n",
    "        response = requests.request(\"GET\", url, headers=headers, data=payload)\n",
    "        reply_with_sentiment_dict={\"reply\":reply['text'],\"classification\":response.text}\n",
    "        reply_with_sentiment_analyzis_list.append(reply_with_sentiment_dict)\n",
    "        \n",
    "    #     print(reply['text'])\n",
    "    #     print(response.text) print(\"*\"*50)\n",
    "    \n",
    "    # print(reply_with_sentiment_analyzis_list)\n",
    "    # print(\"*\"*50)\n",
    "    return reply_with_sentiment_analyzis_list\n",
    "        \n",
    "        \n",
    "    \n",
    "    "
   ]
  },
  {
   "cell_type": "code",
   "execution_count": 5,
   "metadata": {},
   "outputs": [
    {
     "name": "stdout",
     "output_type": "stream",
     "text": [
      "<class 'list'>\n",
      "<class 'str'>\n"
     ]
    }
   ],
   "source": [
    "print(type(tweetList))\n",
    "print(type(tweetList[1]['replies']))"
   ]
  },
  {
   "cell_type": "code",
   "execution_count": 6,
   "metadata": {},
   "outputs": [
    {
     "name": "stdout",
     "output_type": "stream",
     "text": [
      "<class 'list'>\n"
     ]
    }
   ],
   "source": [
    "print(type(render_reply_list(tweetList[1])))"
   ]
  },
  {
   "cell_type": "code",
   "execution_count": 7,
   "metadata": {},
   "outputs": [],
   "source": [
    "new_tweet_dictionary_list=list(dict())\n",
    "for tweet in tweetList:\n",
    "    \n",
    "   classification=classify_tweet_replies(render_reply_list(tweet))\n",
    "   new_tweet_dictionary_list.append({\"tweet\":tweet['text'],\"attachement\":tweet['attachments'],\"analysis\":classification})\n",
    "# print(new_tweet_dictionary_list)\n",
    "# json.dump(new_tweet_dictionary_list)   \n"
   ]
  },
  {
   "cell_type": "code",
   "execution_count": null,
   "metadata": {},
   "outputs": [],
   "source": [
    "# convert into json\n",
    "final_data = json.dumps(new_tweet_dictionary_list, indent=2)\n",
    "print(final_data)"
   ]
  },
  {
   "cell_type": "code",
   "execution_count": 9,
   "metadata": {},
   "outputs": [
    {
     "name": "stdout",
     "output_type": "stream",
     "text": [
      "<class 'str'>\n"
     ]
    }
   ],
   "source": [
    "\n",
    "# convert into json\n",
    "# file name is mydata\n",
    "print(type(final_data))\n",
    "with open(\"data/my_analyzed_data.json\", \"w\") as jsonFile:\n",
    "   json.dump(new_tweet_dictionary_list,jsonFile)\n",
    "    \n",
    "  \n"
   ]
  },
  {
   "cell_type": "code",
   "execution_count": 10,
   "metadata": {},
   "outputs": [],
   "source": [
    "#data visualization for distribution\n",
    "def mapReplyWithItsClass(tweetList):\n",
    "    repliesWithClassList=list()\n",
    "    for tweet in tweetList:\n",
    "        \n",
    "        analysis=tweet['analysis']\n",
    "        for each_reply_analyzis in analysis:\n",
    "            reply=each_reply_analyzis['reply']\n",
    "            reply_class=each_reply_analyzis['classification']\n",
    "            #print(type(reply_class))\n",
    "            reply_class = json.loads(reply_class)\n",
    "           # print(reply_class['prediction'])\n",
    "            reply_with_class_dict={\"reply\":reply,\"group\":reply_class['prediction']}\n",
    "            repliesWithClassList.append(reply_with_class_dict)\n",
    "            \n",
    "    return repliesWithClassList\n",
    "    \n"
   ]
  },
  {
   "cell_type": "code",
   "execution_count": 11,
   "metadata": {},
   "outputs": [],
   "source": [
    "repliesWithClassList=mapReplyWithItsClass(new_tweet_dictionary_list)\n"
   ]
  },
  {
   "cell_type": "code",
   "execution_count": 12,
   "metadata": {},
   "outputs": [],
   "source": [
    "with open(\"data/tweet_replies_distribution.json\", \"w\") as jsonFile:\n",
    "   json.dump(repliesWithClassList,jsonFile)"
   ]
  },
  {
   "cell_type": "code",
   "execution_count": 13,
   "metadata": {},
   "outputs": [
    {
     "data": {
      "text/plain": [
       "reply    False\n",
       "group    False\n",
       "dtype: bool"
      ]
     },
     "execution_count": 13,
     "metadata": {},
     "output_type": "execute_result"
    }
   ],
   "source": [
    "# warnings.filterwarnings(\"ignore\")\n",
    "# # seeding\n",
    "# np.random.seed(123)\n",
    "import pandas as pd\n",
    "data = pd.read_csv('data/tweet_replies_distribution.csv')\n",
    "categories = ['Positive','Neutral','Negative']\n",
    "# data.head()\n",
    "# len(data)\n",
    "data.isnull().any().any()\n",
    "data.isnull().any()\n",
    "data = data.dropna(subset=['reply','group'])\n",
    "# data['clean_text','category'].isnull().sum()\n",
    "# data.isnull().any().any()\n",
    "# data.isnull().any()\n",
    "data.isnull().any()"
   ]
  },
  {
   "cell_type": "code",
   "execution_count": 14,
   "metadata": {},
   "outputs": [
    {
     "data": {
      "image/png": "[encoded data removed]",
      "text/plain": [
       "<Figure size 432x288 with 1 Axes>"
      ]
     },
     "metadata": {
      "needs_background": "light"
     },
     "output_type": "display_data"
    },
    {
     "data": {
      "text/html": [
       "<div>\n",
       "<style scoped>\n",
       "    .dataframe tbody tr th:only-of-type {\n",
       "        vertical-align: middle;\n",
       "    }\n",
       "\n",
       "    .dataframe tbody tr th {\n",
       "        vertical-align: top;\n",
       "    }\n",
       "\n",
       "    .dataframe thead th {\n",
       "        text-align: right;\n",
       "    }\n",
       "</style>\n",
       "<table border=\"1\" class=\"dataframe\">\n",
       "  <thead>\n",
       "    <tr style=\"text-align: right;\">\n",
       "      <th></th>\n",
       "      <th>reply</th>\n",
       "    </tr>\n",
       "    <tr>\n",
       "      <th>group</th>\n",
       "      <th></th>\n",
       "    </tr>\n",
       "  </thead>\n",
       "  <tbody>\n",
       "    <tr>\n",
       "      <th>Negative</th>\n",
       "      <td>50</td>\n",
       "    </tr>\n",
       "    <tr>\n",
       "      <th>Neutral</th>\n",
       "      <td>59</td>\n",
       "    </tr>\n",
       "    <tr>\n",
       "      <th>Positive</th>\n",
       "      <td>366</td>\n",
       "    </tr>\n",
       "  </tbody>\n",
       "</table>\n",
       "</div>"
      ],
      "text/plain": [
       "          reply\n",
       "group          \n",
       "Negative     50\n",
       "Neutral      59\n",
       "Positive    366"
      ]
     },
     "execution_count": 14,
     "metadata": {},
     "output_type": "execute_result"
    }
   ],
   "source": [
    "def visualize():\n",
    "    category_count = data.groupby('group').count()\n",
    "    plt.bar(category_count.index.values, category_count[\"reply\"])\n",
    "    plt.xticks(rotation='vertical')\n",
    "    plt.xlabel('Sentiment Categories')\n",
    "    plt.ylabel('Number of replies')\n",
    "    plt.show()\n",
    "    return category_count\n",
    "visualize()"
   ]
  },
  {
   "cell_type": "code",
   "execution_count": null,
   "metadata": {},
   "outputs": [],
   "source": [
    "print(mapReplyWithItsClass(new_tweet_dictionary_list))"
   ]
  }
 ],
 "metadata": {
  "kernelspec": {
   "display_name": "Python 3 (ipykernel)",
   "language": "python",
   "name": "python3"
  },
  "language_info": {
   "codemirror_mode": {
    "name": "ipython",
    "version": 3
   },
   "file_extension": ".py",
   "mimetype": "text/x-python",
   "name": "python",
   "nbconvert_exporter": "python",
   "pygments_lexer": "ipython3",
   "version": "3.9.12"
  },
  "vscode": {
   "interpreter": {
    "hash": "3b7e9cb8e453d6cda0fe8c8dd13f891a1f09162f0e7c66ffeae7751a7aecf00d"
   }
  }
 },
 "nbformat": 4,
 "nbformat_minor": 2
}
