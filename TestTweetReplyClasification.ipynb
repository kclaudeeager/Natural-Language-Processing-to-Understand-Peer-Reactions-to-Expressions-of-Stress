{
 "cells": [
  {
   "cell_type": "code",
   "execution_count": null,
   "metadata": {},
   "outputs": [],
   "source": [
    "import csv\n",
    "# import the pandas library\n",
    "import json\n",
    "#import pandas as pd"
   ]
  },
  {
   "cell_type": "code",
   "execution_count": null,
   "metadata": {},
   "outputs": [],
   "source": [
    "# tweetRepliesData=pd.read_csv('TweetExtraction\\cleaned_tweet_with_replies_only.csv')\n",
    "tweetList=list()\n",
    "with open(\"data\\cleaned_tweet_with_replies_only.json\",encoding=\"UTF-8\") as tweetData:\n",
    "    print(tweetData)\n",
    "    tweetList=json.load(tweetData)\n",
    "print(tweetList)\n",
    "    "
   ]
  },
  {
   "cell_type": "code",
   "execution_count": 61,
   "metadata": {},
   "outputs": [],
   "source": [
    "#Return list of tweet replies\n",
    "def render_reply_list(tweet):\n",
    "    replies=tweet['replies']\n",
    "    # data=replies['data']\n",
    "    res = json.loads(replies)\n",
    "    # print(type(res))\n",
    "    # print(res['data'])\n",
    "    return res['data']"
   ]
  },
  {
   "cell_type": "code",
   "execution_count": 62,
   "metadata": {},
   "outputs": [],
   "source": [
    "import requests\n",
    "#map each tweet replies with its corresponding classification\n",
    "def classify_tweet_replies(replies):\n",
    "    reply_with_sentiment_analyzis_list=list()\n",
    "    \n",
    "    for reply in replies:\n",
    "        url = \"http://localhost/predict-review?review=\"+reply['text']\n",
    "\n",
    "        payload = \"\"\n",
    "        headers = {}\n",
    "\n",
    "        response = requests.request(\"GET\", url, headers=headers, data=payload)\n",
    "        reply_with_sentiment_dict={\"reply\":reply['text'],\"classification\":response.text}\n",
    "        reply_with_sentiment_analyzis_list.append(reply_with_sentiment_dict)\n",
    "        \n",
    "    #     print(reply['text'])\n",
    "    #     print(response.text) print(\"*\"*50)\n",
    "    \n",
    "    # print(reply_with_sentiment_analyzis_list)\n",
    "    # print(\"*\"*50)\n",
    "    return reply_with_sentiment_analyzis_list\n",
    "        \n",
    "        \n",
    "    \n",
    "    \n",
    "    "
   ]
  },
  {
   "cell_type": "code",
   "execution_count": 32,
   "metadata": {},
   "outputs": [
    {
     "name": "stdout",
     "output_type": "stream",
     "text": [
      "<class 'list'>\n",
      "<class 'str'>\n"
     ]
    }
   ],
   "source": [
    "print(type(tweetList))\n",
    "print(type(tweetList[1]['replies']))"
   ]
  },
  {
   "cell_type": "code",
   "execution_count": 43,
   "metadata": {},
   "outputs": [
    {
     "name": "stdout",
     "output_type": "stream",
     "text": [
      "<class 'list'>\n"
     ]
    }
   ],
   "source": [
    "print(type(render_reply_list(tweetList[1])))"
   ]
  },
  {
   "cell_type": "code",
   "execution_count": 78,
   "metadata": {},
   "outputs": [],
   "source": [
    "new_tweet_dictionary_list=list(dict())\n",
    "for tweet in tweetList:\n",
    "    \n",
    "   classification=classify_tweet_replies(render_reply_list(tweet))\n",
    "   new_tweet_dictionary_list.append({\"tweet\":tweet['text'],\"attachement\":tweet['attachments'],\"analysis\":classification})\n",
    "# print(new_tweet_dictionary_list)\n",
    "# json.dump(new_tweet_dictionary_list)   \n"
   ]
  },
  {
   "cell_type": "code",
   "execution_count": null,
   "metadata": {},
   "outputs": [],
   "source": [
    "# convert into json\n",
    "final_data = json.dumps(new_tweet_dictionary_list, indent=2)\n",
    "print(final_data)"
   ]
  },
  {
   "cell_type": "code",
   "execution_count": 79,
   "metadata": {},
   "outputs": [
    {
     "name": "stdout",
     "output_type": "stream",
     "text": [
      "<class '_io.TextIOWrapper'>\n"
     ]
    }
   ],
   "source": [
    "\n",
    "# convert into json\n",
    "# file name is mydata\n",
    "print(type(final_data))\n",
    "with open(\"data/my_analyzed_data.json\", \"w\") as jsonFile:\n",
    "   json.dump(new_tweet_dictionary_list,jsonFile)\n",
    "    \n",
    "  \n"
   ]
  }
 ],
 "metadata": {
  "kernelspec": {
   "display_name": "Python 3.10.5 64-bit (windows store)",
   "language": "python",
   "name": "python3"
  },
  "language_info": {
   "codemirror_mode": {
    "name": "ipython",
    "version": 3
   },
   "file_extension": ".py",
   "mimetype": "text/x-python",
   "name": "python",
   "nbconvert_exporter": "python",
   "pygments_lexer": "ipython3",
   "version": "3.10.5"
  },
  "orig_nbformat": 4,
  "vscode": {
   "interpreter": {
    "hash": "3b7e9cb8e453d6cda0fe8c8dd13f891a1f09162f0e7c66ffeae7751a7aecf00d"
   }
  }
 },
 "nbformat": 4,
 "nbformat_minor": 2
}
