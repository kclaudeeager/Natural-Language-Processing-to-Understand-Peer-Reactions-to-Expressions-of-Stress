{
 "cells": [
  {
   "cell_type": "code",
   "execution_count": 1,
   "id": "15d94712",
   "metadata": {},
   "outputs": [],
   "source": [
    "from sentence_transformers import SentenceTransformer, util\n",
    "import os\n",
    "from transformers import Trainer, pipeline, set_seed, AutoTokenizer, AutoModelForSeq2SeqLM, DataCollatorForSeq2Seq, Seq2SeqTrainingArguments, Seq2SeqTrainer\n",
    "import nltk\n",
    "import pandas as pd\n",
    "import pickle"
   ]
  },
  {
   "cell_type": "code",
   "execution_count": 7,
   "id": "b9ab5f9c",
   "metadata": {},
   "outputs": [
    {
     "name": "stderr",
     "output_type": "stream",
     "text": [
      "Your max_length is set to 200, but you input_length is only 24. You might consider decreasing max_length manually, e.g. summarizer('...', max_length=12)\n",
      "Your max_length is set to 200, but you input_length is only 30. You might consider decreasing max_length manually, e.g. summarizer('...', max_length=15)\n"
     ]
    },
    {
     "name": "stdout",
     "output_type": "stream",
     "text": [
      "[\"['neutralizing', 'optimism'] This world isn't fair to help everyone, but I'm sure I'll be able to help others.\", \"['neutralizing', 'optimism'] I don't see any help from you son of bitch, but I'm sure you'll be able to leave me soon.\"]\n"
     ]
    }
   ],
   "source": [
    "\n",
    "# load the model from disk\n",
    "filename = 'output/finalized_reframer.sav'\n",
    "loaded_reframer = pickle.load(open(filename, 'rb'))\n",
    "textsToTest=['I hate when everything get fucked up. this world is not fair to help everyone i guess','get out of my life I do not see any help from you son of bitch😩 actually what do you need to leave me?']\n",
    "reframed_textsToTest = [loaded_reframer(phrase)[0]['summary_text'] for phrase in textsToTest]\n",
    "print(reframed_textsToTest)\n",
    "\n",
    "with open('output/reframed_textsToTest.txt', 'w') as f:\n",
    "    for item in reframed_textsToTest:\n",
    "        f.write(\"%s\\n\" % item)"
   ]
  },
  {
   "cell_type": "code",
   "execution_count": null,
   "id": "236a10f2",
   "metadata": {},
   "outputs": [],
   "source": []
  }
 ],
 "metadata": {
  "kernelspec": {
   "display_name": "Python 3 (ipykernel)",
   "language": "python",
   "name": "python3"
  },
  "language_info": {
   "codemirror_mode": {
    "name": "ipython",
    "version": 3
   },
   "file_extension": ".py",
   "mimetype": "text/x-python",
   "name": "python",
   "nbconvert_exporter": "python",
   "pygments_lexer": "ipython3",
   "version": "3.9.12"
  }
 },
 "nbformat": 4,
 "nbformat_minor": 5
}
