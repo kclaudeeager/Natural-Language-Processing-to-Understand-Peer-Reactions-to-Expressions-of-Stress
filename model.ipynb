{
 "cells": [
  {
   "cell_type": "code",
   "execution_count": 1,
   "metadata": {},
   "outputs": [],
   "source": [
    "# import important modules\n",
    "import pandas as pd\n",
    "import numpy as np\n",
    "import matplotlib.pyplot as plt\n",
    "from sklearn.feature_extraction.text import CountVectorizer, TfidfVectorizer\n",
    "from nltk.tokenize import RegexpTokenizer, TweetTokenizer\n",
    "from sklearn.naive_bayes import MultinomialNB\n",
    "from sklearn import metrics, svm\n",
    "from sklearn.model_selection import train_test_split\n",
    "from sklearn.metrics import classification_report\n",
    "import warnings\n",
    "warnings.filterwarnings('ignore')\n",
    "import numpy as np\n",
    "import joblib\n",
    "import pickle\n",
    "import warnings\n",
    "warnings.filterwarnings(\"ignore\")\n",
    "# seeding\n",
    "np.random.seed(123)\n",
    "# load data\n",
    "\n"
   ]
  },
  {
   "cell_type": "code",
   "execution_count": 3,
   "metadata": {},
   "outputs": [
    {
     "data": {
      "text/plain": [
       "clean_text    False\n",
       "category      False\n",
       "dtype: bool"
      ]
     },
     "execution_count": 3,
     "metadata": {},
     "output_type": "execute_result"
    }
   ],
   "source": [
    "# warnings.filterwarnings(\"ignore\")\n",
    "# # seeding\n",
    "# np.random.seed(123)\n",
    "data = pd.read_csv('data/Twitter_Data.csv')\n",
    "categories = [-1, 0, 1]\n",
    "# data.head()\n",
    "# len(data)\n",
    "data.isnull().any().any()\n",
    "data.isnull().any()\n",
    "data = data.dropna(subset=['clean_text','category'])\n",
    "# data['clean_text','category'].isnull().sum()\n",
    "# data.isnull().any().any()\n",
    "# data.isnull().any()\n",
    "data.isnull().any()"
   ]
  },
  {
   "cell_type": "code",
   "execution_count": 4,
   "metadata": {},
   "outputs": [
    {
     "data": {
      "image/png": "[encoded data removed]",
      "text/plain": [
       "<Figure size 432x288 with 1 Axes>"
      ]
     },
     "metadata": {
      "needs_background": "light"
     },
     "output_type": "display_data"
    },
    {
     "data": {
      "text/html": [
       "<div>\n",
       "<style scoped>\n",
       "    .dataframe tbody tr th:only-of-type {\n",
       "        vertical-align: middle;\n",
       "    }\n",
       "\n",
       "    .dataframe tbody tr th {\n",
       "        vertical-align: top;\n",
       "    }\n",
       "\n",
       "    .dataframe thead th {\n",
       "        text-align: right;\n",
       "    }\n",
       "</style>\n",
       "<table border=\"1\" class=\"dataframe\">\n",
       "  <thead>\n",
       "    <tr style=\"text-align: right;\">\n",
       "      <th></th>\n",
       "      <th>clean_text</th>\n",
       "    </tr>\n",
       "    <tr>\n",
       "      <th>category</th>\n",
       "      <th></th>\n",
       "    </tr>\n",
       "  </thead>\n",
       "  <tbody>\n",
       "    <tr>\n",
       "      <th>-1.0</th>\n",
       "      <td>35509</td>\n",
       "    </tr>\n",
       "    <tr>\n",
       "      <th>0.0</th>\n",
       "      <td>55211</td>\n",
       "    </tr>\n",
       "    <tr>\n",
       "      <th>1.0</th>\n",
       "      <td>72249</td>\n",
       "    </tr>\n",
       "  </tbody>\n",
       "</table>\n",
       "</div>"
      ],
      "text/plain": [
       "          clean_text\n",
       "category            \n",
       "-1.0           35509\n",
       " 0.0           55211\n",
       " 1.0           72249"
      ]
     },
     "execution_count": 4,
     "metadata": {},
     "output_type": "execute_result"
    }
   ],
   "source": [
    "def visualize():\n",
    "    category_count = data.groupby('category').count()\n",
    "    plt.bar(category_count.index.values, category_count[\"clean_text\"])\n",
    "    plt.xticks(rotation='vertical')\n",
    "    plt.xlabel('Sentiment Categories')\n",
    "    plt.ylabel('Number of Texts')\n",
    "    plt.show()\n",
    "    return category_count\n",
    "visualize()"
   ]
  },
  {
   "cell_type": "code",
   "execution_count": 5,
   "metadata": {},
   "outputs": [],
   "source": [
    "def feature_gen_with_TFIDF():\n",
    "    token = TweetTokenizer()\n",
    "    tf = TfidfVectorizer(tokenizer=token.tokenize,stop_words=\"english\")\n",
    "    text_tf = tf.fit_transform(data['clean_text'])\n",
    "    #  x_train, x_test, y_train, y_test\n",
    "    return train_test_split(text_tf, data['category'], test_size=0.3, random_state=1212)\n",
    "\n",
    "def feature_gen_with_CV():\n",
    "    token = TweetTokenizer()\n",
    "    cv = CountVectorizer(lowercase=True, stop_words=\"english\",\n",
    "                         ngram_range=(1, 1), tokenizer=token.tokenize)\n",
    "    text_counts = cv.fit_transform(data['clean_text'])\n",
    "    return train_test_split(text_counts, data['category'], test_size=0.3, random_state=1212)\n",
    "\n",
    "def calculate_accuracy(x_train, x_test, y_train, y_test, model=None, model_filename = None):\n",
    "    clf = MultinomialNB().fit(x_train, y_train)\n",
    "    print(\"x_test\", type(x_test))\n",
    "    if model == \"SVM\":\n",
    "        clf = svm.SVC(kernel='linear').fit(x_train, y_train)\n",
    "\n",
    "    predicted = clf.predict(x_test)\n",
    "    accuracy_score = metrics.accuracy_score(y_test, predicted)\n",
    "\n",
    "    if not model_filename : model_filename = \"model_trained\"\n",
    "    # joblib.dump(clf,\"/content/drive/MyDrive/Colab Notebooks/Sentiment Analysis/trained_models/\"+ model_filename+'.pkl')\n",
    "    \n",
    "    # file_name = \"/content/drive/MyDrive/Colab Notebooks/Sentiment Analysis /trained_models/\" + model_filename +'.pkl'\n",
    "    # with open(file_name, 'wb') as handle:\n",
    "    #     pickle.dump(clf, handle, protocol=pickle.HIGHEST_PROTOCOL) \n",
    "    # f = open(file_name,'wb')\n",
    "    # pickle.dump(clf,f)\n",
    "    # f.close()\n",
    "\n",
    "    return accuracy_score, predicted\n",
    "def train_model(model=None, model_filename = None):\n",
    "    token = TweetTokenizer()\n",
    "    cv = CountVectorizer(lowercase=True, stop_words=\"english\",\n",
    "                         ngram_range=(1, 1), tokenizer=token.tokenize)\n",
    "    x = data['clean_text']\n",
    "    y = data['category']\n",
    "\n",
    "    clf = MultinomialNB().fit(x_train, y_train)\n",
    "    print(\"x_test\", type(x_test))\n",
    "    if model == \"SVM\":\n",
    "        clf = svm.SVC(kernel='linear').fit(x_train, y_train)\n",
    "\n",
    "    predicted = clf.predict(x_test)\n",
    "    accuracy_score = metrics.accuracy_score(y_test, predicted)\n",
    "\n",
    "    if not model_filename : model_filename = \"model_trained\"\n",
    "    # joblib.dump(clf,\"/content/drive/MyDrive/Colab Notebooks/Sentiment Analysis/trained_models/\"+ model_filename+'.pkl')\n",
    "    \n",
    "    # file_name = \"/content/drive/MyDrive/Colab Notebooks/Sentiment Analysis /trained_models/\" + model_filename +'.pkl'\n",
    "    # with open(file_name, 'wb') as handle:\n",
    "    #     pickle.dump(clf, handle, protocol=pickle.HIGHEST_PROTOCOL) \n",
    "    # f = open(file_name,'wb')\n",
    "    # pickle.dump(clf,f)\n",
    "    # f.close()\n",
    "\n",
    "    return accuracy_score, predicted"
   ]
  },
  {
   "cell_type": "code",
   "execution_count": 6,
   "metadata": {},
   "outputs": [],
   "source": [
    "# with  CV\n",
    "x_train, x_test, y_train, y_test = feature_gen_with_CV()"
   ]
  },
  {
   "cell_type": "code",
   "execution_count": 7,
   "metadata": {},
   "outputs": [],
   "source": [
    "# with  TF_IDF\n",
    "xtrain, xtest, ytrain, ytest = feature_gen_with_TFIDF()"
   ]
  },
  {
   "cell_type": "code",
   "execution_count": 8,
   "metadata": {},
   "outputs": [
    {
     "name": "stdout",
     "output_type": "stream",
     "text": [
      "x_test <class 'scipy.sparse._csr.csr_matrix'>\n"
     ]
    }
   ],
   "source": [
    "CV_NB = calculate_accuracy(x_train, x_test, y_train, y_test,model_filename = \"CV_MNB_model\")"
   ]
  },
  {
   "cell_type": "code",
   "execution_count": null,
   "metadata": {},
   "outputs": [],
   "source": [
    "CV_SVM = calculate_accuracy(x_train, x_test, y_train, y_test, model = \"SVM\",model_filename = \"CV_SVM_model\")\n"
   ]
  },
  {
   "cell_type": "code",
   "execution_count": null,
   "metadata": {},
   "outputs": [],
   "source": [
    "TF_NB = calculate_accuracy(xtrain, xtest, ytrain, ytest,model_filename = \"TF_MNB_model\")\n"
   ]
  },
  {
   "cell_type": "code",
   "execution_count": null,
   "metadata": {},
   "outputs": [],
   "source": [
    "TF_SVM = calculate_accuracy(xtrain, xtest, ytrain, ytest, model = \"SVM\",model_filename = \"TF_MNB_model\")"
   ]
  },
  {
   "cell_type": "code",
   "execution_count": null,
   "metadata": {},
   "outputs": [],
   "source": [
    "print(CV_NB[1],TF_NB[1])\n",
    "\n"
   ]
  },
  {
   "cell_type": "code",
   "execution_count": null,
   "metadata": {},
   "outputs": [],
   "source": [
    "from sklearn.pipeline import Pipeline\n",
    "x = data['clean_text']\n",
    "y = data.category.values\n",
    "x_train, x_valid, y_train, y_valid = train_test_split(x,y,test_size=0.15,random_state=42,shuffle=True,stratify=y)\n",
    "sent_clf = Pipeline(steps=[('pre_processing', CountVectorizer(lowercase=False, stop_words='english')), ('naive_bayes', MultinomialNB())])\n",
    "sent_clf.fit(x_train, y_train)"
   ]
  },
  {
   "cell_type": "code",
   "execution_count": null,
   "metadata": {},
   "outputs": [],
   "source": [
    "y_predictions = sent_clf.predict(x_valid)\n"
   ]
  },
  {
   "cell_type": "code",
   "execution_count": null,
   "metadata": {},
   "outputs": [],
   "source": [
    "metrics.accuracy_score(y_valid,y_predictions)"
   ]
  },
  {
   "cell_type": "code",
   "execution_count": null,
   "metadata": {},
   "outputs": [],
   "source": [
    "model_filename = \"trained_model1\"\n",
    "file_name = \"models/\" + model_filename +'.pkl'\n",
    "f = open(file_name,'wb')\n",
    "pickle.dump(sent_clf,f)\n",
    "f.close()"
   ]
  }
 ],
 "metadata": {
  "interpreter": {
   "hash": "afb734500600fd355917ca529030176ea0ca205570884b88f2f6f7d791fd3fbe"
  },
  "kernelspec": {
   "display_name": "Python 3.10.4 64-bit",
   "language": "python",
   "name": "python3"
  },
  "language_info": {
   "codemirror_mode": {
    "name": "ipython",
    "version": 3
   },
   "file_extension": ".py",
   "mimetype": "text/x-python",
   "name": "python",
   "nbconvert_exporter": "python",
   "pygments_lexer": "ipython3",
   "version": "3.10.4"
  },
  "orig_nbformat": 4
 },
 "nbformat": 4,
 "nbformat_minor": 2
}
